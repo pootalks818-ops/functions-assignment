{
  "nbformat": 4,
  "nbformat_minor": 0,
  "metadata": {
    "colab": {
      "provenance": []
    },
    "kernelspec": {
      "name": "python3",
      "display_name": "Python 3"
    },
    "language_info": {
      "name": "python"
    }
  },
  "cells": [
    {
      "cell_type": "markdown",
      "source": [
        "#1 What is the difference between a function and a method in Python?\n",
        "In Python, a function is an independent block of code defined using the def keyword that performs a specific task and can be called anywhere in a program. It is not associated with any particular object or class. For example, built-in functions like print() or user-defined ones like def add(a, b): are standalone and can be used directly. In contrast, a method is a function that is associated with an object and defined inside a class. Methods are called using the dot notation (e.g., object.method()), and they automatically take the instance (usually named self) as their first parameter, allowing them to access and modify the object’s attributes. In short, functions operate independently, while methods are functions that belong to and act upon objects."
      ],
      "metadata": {
        "id": "Vso_fGsGNP3b"
      }
    },
    {
      "cell_type": "code",
      "execution_count": null,
      "metadata": {
        "colab": {
          "base_uri": "https://localhost:8080/"
        },
        "id": "Fq5SlV0TMSpk",
        "outputId": "ef70dc97-716d-4b73-f96a-04087c79f7a6"
      },
      "outputs": [
        {
          "output_type": "stream",
          "name": "stdout",
          "text": [
            "Hello, welcome!\n"
          ]
        }
      ],
      "source": [
        "# Example of a Function\n",
        "def greet():\n",
        "    print(\"Hello, welcome!\")\n",
        "\n",
        "greet()   # Calling a function\n"
      ]
    },
    {
      "cell_type": "markdown",
      "source": [
        "#2 . Explain the concept of function arguments and parameters in Python.\n",
        "Parameters are the variables listed in a function definition.\n",
        "Arguments are the actual values passed to the function when it is called.\n",
        "Types of Arguments:\n",
        "Positional arguments – based on order\n",
        "Keyword arguments – specify by name\n",
        "Default arguments – have a predefined value"
      ],
      "metadata": {
        "id": "I3lctBlqNmf8"
      }
    },
    {
      "cell_type": "code",
      "source": [
        "# Example\n",
        "def greet(name):      # 'name' is a parameter\n",
        "    print(\"Hello\", name)\n",
        "\n",
        "greet(\"Pooja\")        # \"Pooja\" is an argument\n"
      ],
      "metadata": {
        "colab": {
          "base_uri": "https://localhost:8080/"
        },
        "id": "iqpyE8P0OFoq",
        "outputId": "ddada3e5-cc44-4631-f404-17093c26466f"
      },
      "execution_count": null,
      "outputs": [
        {
          "output_type": "stream",
          "name": "stdout",
          "text": [
            "Hello Pooja\n"
          ]
        }
      ]
    },
    {
      "cell_type": "markdown",
      "source": [
        "#3 What are the different ways to define and call a function in Python?\n",
        "1. Normal Function (Using def)\n",
        "This is the most common way to define a function.\n",
        "2. Function with Parameters\n",
        "You can pass values (arguments) to a function.\n",
        "3. Function with Return Value\n",
        "Functions can return results to the caller using the return statement.\n",
        "4. Function with Default Arguments\n",
        "You can give parameters default values."
      ],
      "metadata": {
        "id": "Ky2pvEcGOT3Y"
      }
    },
    {
      "cell_type": "code",
      "source": [
        "# Example for Normal Function\n",
        "def greet():\n",
        "    print(\"Hello, Welcome to Python!\")\n",
        "\n",
        "# Calling the function\n",
        "greet()\n"
      ],
      "metadata": {
        "colab": {
          "base_uri": "https://localhost:8080/"
        },
        "id": "tY7BajTEPBOO",
        "outputId": "d39428b3-98c5-458a-c6cb-c515645c5b70"
      },
      "execution_count": null,
      "outputs": [
        {
          "output_type": "stream",
          "name": "stdout",
          "text": [
            "Hello, Welcome to Python!\n"
          ]
        }
      ]
    },
    {
      "cell_type": "code",
      "source": [
        "# Example of Function With Parameters\n",
        "def add(a, b):\n",
        "    print(\"Sum:\", a + b)\n",
        "\n",
        "# Calling the function with arguments\n",
        "add(5, 3)\n"
      ],
      "metadata": {
        "colab": {
          "base_uri": "https://localhost:8080/"
        },
        "id": "ZU0YF-yDPNQ1",
        "outputId": "de59b908-d56e-4ded-f815-760266c2b246"
      },
      "execution_count": null,
      "outputs": [
        {
          "output_type": "stream",
          "name": "stdout",
          "text": [
            "Sum: 8\n"
          ]
        }
      ]
    },
    {
      "cell_type": "code",
      "source": [
        "# Example of Function With Return Value\n",
        "def multiply(x, y):\n",
        "    return x * y\n",
        "\n",
        "result = multiply(4, 5)\n",
        "print(\"Result:\", result)\n"
      ],
      "metadata": {
        "colab": {
          "base_uri": "https://localhost:8080/"
        },
        "id": "VBlCTyrZPeVN",
        "outputId": "58f0748c-ae00-4be1-8ea2-0b7b57313bb1"
      },
      "execution_count": null,
      "outputs": [
        {
          "output_type": "stream",
          "name": "stdout",
          "text": [
            "Result: 20\n"
          ]
        }
      ]
    },
    {
      "cell_type": "code",
      "source": [
        "# Example of Function with Default Arguments\n",
        "def greet(name=\"Guest\"):\n",
        "    print(\"Hello\", name)\n",
        "\n",
        "greet()         # Uses default value\n",
        "greet(\"Pooja\")  # Uses given argument\n"
      ],
      "metadata": {
        "colab": {
          "base_uri": "https://localhost:8080/"
        },
        "id": "SADr9s9APxVo",
        "outputId": "a2d58b9e-8cbb-4efa-82c1-26dcebf15286"
      },
      "execution_count": null,
      "outputs": [
        {
          "output_type": "stream",
          "name": "stdout",
          "text": [
            "Hello Guest\n",
            "Hello Pooja\n"
          ]
        }
      ]
    },
    {
      "cell_type": "markdown",
      "source": [
        "#4  What is the purpose of the `return` statement in a Python function?\n",
        "The return statement in Python is used to send a value (or multiple values) from a function back to the place where it was called.\n",
        "Purpose of return\n",
        "To give output from a function\n",
        "To stop the function’s execution\n",
        "To pass data between functions"
      ],
      "metadata": {
        "id": "wJJ6ShnNQF8a"
      }
    },
    {
      "cell_type": "code",
      "source": [
        "# Example with Return\n",
        "def add(a, b):\n",
        "    return a + b  # sends the result back\n",
        "\n",
        "result = add(5, 3)\n",
        "print(\"Sum:\", result)\n"
      ],
      "metadata": {
        "colab": {
          "base_uri": "https://localhost:8080/"
        },
        "id": "k5TRrCXBQvHx",
        "outputId": "73d3d181-93f5-433f-c2be-905c181c7a95"
      },
      "execution_count": null,
      "outputs": [
        {
          "output_type": "stream",
          "name": "stdout",
          "text": [
            "Sum: 8\n"
          ]
        }
      ]
    },
    {
      "cell_type": "code",
      "source": [
        "# Example without Return\n",
        "def add(a, b):\n",
        "    print(a + b)\n",
        "\n",
        "result = add(5, 3)\n",
        "print(result)\n"
      ],
      "metadata": {
        "colab": {
          "base_uri": "https://localhost:8080/"
        },
        "id": "ksF1jaTqQ4Ez",
        "outputId": "0bb0e01d-7a1e-4e64-9953-d0233f91ce42"
      },
      "execution_count": null,
      "outputs": [
        {
          "output_type": "stream",
          "name": "stdout",
          "text": [
            "8\n",
            "None\n"
          ]
        }
      ]
    },
    {
      "cell_type": "markdown",
      "source": [
        "#5  What are iterators in Python and how do they differ from iterables?\n",
        "Iterable → can be converted to an iterator\n",
        " Iterator → gives the next value from the iterable, one at a time"
      ],
      "metadata": {
        "id": "a_qaPXSARJ7n"
      }
    },
    {
      "cell_type": "code",
      "source": [
        "# Example of Iterable and Iterator\n",
        "numbers = [1, 2, 3]   # This is an iterable\n",
        "\n",
        "it = iter(numbers)    # Create an iterator from iterable\n",
        "\n",
        "print(next(it))   # Output: 1\n",
        "print(next(it))   # Output: 2\n",
        "print(next(it))   # Output: 3\n"
      ],
      "metadata": {
        "colab": {
          "base_uri": "https://localhost:8080/"
        },
        "id": "gc_lZD9EReSU",
        "outputId": "655f0ff1-664e-4d3b-cb55-30ed67a1da60"
      },
      "execution_count": null,
      "outputs": [
        {
          "output_type": "stream",
          "name": "stdout",
          "text": [
            "1\n",
            "2\n",
            "3\n"
          ]
        }
      ]
    },
    {
      "cell_type": "markdown",
      "source": [
        "#6. Explain the concept of generators in Python and how they are defined.\n",
        "A generator is a special type of iterator that allows you to generate values on the fly (one at a time) instead of storing them all in memory.\n",
        "Generators are used when:\n",
        "You want to iterate over a large dataset\n",
        "You want to save memory\n",
        "You don’t need all the values at once"
      ],
      "metadata": {
        "id": "vaDJ-oexR2dq"
      }
    },
    {
      "cell_type": "code",
      "source": [
        "# Example of Generator Function (using yield) Instead of return, a generator uses yield to return values one by one.\n",
        "def count_up_to(n):\n",
        "    i = 1\n",
        "    while i <= n:\n",
        "        yield i       # yield returns value and pauses the function\n",
        "        i += 1\n",
        "\n",
        "# Create a generator object\n",
        "numbers = count_up_to(5)\n",
        "\n",
        "# Iterate through it\n",
        "for num in numbers:\n",
        "    print(num)\n"
      ],
      "metadata": {
        "colab": {
          "base_uri": "https://localhost:8080/"
        },
        "id": "bcq3YjmISLmQ",
        "outputId": "57ebbd49-a1c0-48a6-e962-f8a1c79cb483"
      },
      "execution_count": null,
      "outputs": [
        {
          "output_type": "stream",
          "name": "stdout",
          "text": [
            "1\n",
            "2\n",
            "3\n",
            "4\n",
            "5\n"
          ]
        }
      ]
    },
    {
      "cell_type": "markdown",
      "source": [
        "#7 What are the advantages of using generators over regular functions?\n",
        "\n",
        "Generators in Python offer several advantages over regular functions, especially when dealing with large amounts of data or continuous data streams. The main benefit is memory efficiency — unlike regular functions that return all values at once and store them in memory (like a list), generators produce one value at a time using the yield keyword. This means they don’t need to hold the entire result in memory, making them ideal for handling large datasets or even infinite sequences."
      ],
      "metadata": {
        "id": "-JlISn8kSkeh"
      }
    },
    {
      "cell_type": "code",
      "source": [
        "#Example\n",
        "def get_numbers(n):\n",
        "    return [i for i in range(n)]  # regular function\n",
        "\n",
        "def generate_numbers(n):\n",
        "    for i in range(n):\n",
        "        yield i   # generator function\n"
      ],
      "metadata": {
        "id": "1IYd0y4BTNzy"
      },
      "execution_count": null,
      "outputs": []
    },
    {
      "cell_type": "markdown",
      "source": [
        "8.  What is a lambda function in Python and when is it typically used?\n",
        "A lambda function is a small, anonymous function defined without a name using the keyword lambda.\n",
        "It can have any number of input parameters, but only one expression, which is evaluated and returned automatically."
      ],
      "metadata": {
        "id": "ErAQ6lGMTi82"
      }
    },
    {
      "cell_type": "code",
      "source": [
        "# Regular function\n",
        "def square(x):\n",
        "    return x * x\n",
        "\n",
        "print(square(5))  # Output: 25\n",
        "\n",
        "# Equivalent lambda function\n",
        "square_lambda = lambda x: x * x\n",
        "print(square_lambda(5))  # Output: 25\n"
      ],
      "metadata": {
        "colab": {
          "base_uri": "https://localhost:8080/"
        },
        "id": "7hRoTbqjT2u5",
        "outputId": "22fa106d-5d78-431b-f710-0a6e27667007"
      },
      "execution_count": null,
      "outputs": [
        {
          "output_type": "stream",
          "name": "stdout",
          "text": [
            "25\n",
            "25\n"
          ]
        }
      ]
    },
    {
      "cell_type": "markdown",
      "source": [
        "# 9 Explain the purpose and usage of the `map()` function in Python.\n",
        "Purpose of map()\n",
        "The map() function is used to apply a given function to all items of an iterable (like a list, tuple, or set) and return a new iterable with the results.\n",
        "function → the function to apply to each item\n",
        "iterable → the collection of items (list, tuple, etc.)\n",
        "returns → a map object (an iterator), which can be converted to a list, tuple, etc."
      ],
      "metadata": {
        "id": "sHckMAPfUD5K"
      }
    },
    {
      "cell_type": "code",
      "source": [
        "# Example 1: Using map() with a regular function\n",
        "def square(x):\n",
        "    return x * x\n",
        "\n",
        "numbers = [1, 2, 3, 4, 5]\n",
        "\n",
        "squared_numbers = map(square, numbers)  # apply square to each number\n",
        "print(list(squared_numbers))\n"
      ],
      "metadata": {
        "colab": {
          "base_uri": "https://localhost:8080/"
        },
        "id": "hJopInsDUiVe",
        "outputId": "0fa509a6-d586-4a79-bc89-1754657eb41b"
      },
      "execution_count": null,
      "outputs": [
        {
          "output_type": "stream",
          "name": "stdout",
          "text": [
            "[1, 4, 9, 16, 25]\n"
          ]
        }
      ]
    },
    {
      "cell_type": "code",
      "source": [
        "# Example 2: Using map() with a lambda function\n",
        "numbers = [1, 2, 3, 4, 5]\n",
        "\n",
        "squared_numbers = map(lambda x: x * x, numbers)\n",
        "print(list(squared_numbers))\n"
      ],
      "metadata": {
        "colab": {
          "base_uri": "https://localhost:8080/"
        },
        "id": "I5jL9P9xUzl0",
        "outputId": "ed96ad2c-ca80-4b98-df28-006a0f5b387c"
      },
      "execution_count": null,
      "outputs": [
        {
          "output_type": "stream",
          "name": "stdout",
          "text": [
            "[1, 4, 9, 16, 25]\n"
          ]
        }
      ]
    },
    {
      "cell_type": "markdown",
      "source": [
        " # 10 What is the difference between `map()`, `reduce()`, and `filter()` functions in Python?\n",
        "1. map() Function\n",
        "Purpose: Applies a function to all items of an iterable and returns a new iterable with the results.\n",
        "Return type: map object (iterator)\n",
        "Use case: Transform or modify each item in a collection"
      ],
      "metadata": {
        "id": "7sjmX3eGU-KM"
      }
    },
    {
      "cell_type": "code",
      "source": [
        "# Example of map()\n",
        "numbers = [1, 2, 3, 4, 5]\n",
        "squared = map(lambda x: x*x, numbers)\n",
        "print(list(squared))\n"
      ],
      "metadata": {
        "colab": {
          "base_uri": "https://localhost:8080/"
        },
        "id": "dpIHEIozVYNE",
        "outputId": "a337467d-4075-49a5-8259-3558553c08bf"
      },
      "execution_count": null,
      "outputs": [
        {
          "output_type": "stream",
          "name": "stdout",
          "text": [
            "[1, 4, 9, 16, 25]\n"
          ]
        }
      ]
    },
    {
      "cell_type": "markdown",
      "source": [
        "2. filter() Function\n",
        "Purpose: Applies a function that returns True or False to all items of an iterable and returns a new iterable containing only the items where the function returned True.\n",
        "Return type: filter object (iterator)\n",
        "Use case: Select or filter items based on a condition."
      ],
      "metadata": {
        "id": "aNCmTQ5-VhKd"
      }
    },
    {
      "cell_type": "code",
      "source": [
        "numbers = [1, 2, 3, 4, 5]\n",
        "evens = filter(lambda x: x % 2 == 0, numbers)\n",
        "print(list(evens))\n"
      ],
      "metadata": {
        "colab": {
          "base_uri": "https://localhost:8080/"
        },
        "id": "Sn-wpezoVtkT",
        "outputId": "dda53c71-5102-4bd8-92dc-ebe29aaa3586"
      },
      "execution_count": null,
      "outputs": [
        {
          "output_type": "stream",
          "name": "stdout",
          "text": [
            "[2, 4]\n"
          ]
        }
      ]
    },
    {
      "cell_type": "markdown",
      "source": [
        "3. reduce() Function\n",
        "Purpose: Applies a function cumulatively to the items of an iterable, reducing it to a single value.\n",
        "Return type: Single value (not an iterator)\n",
        "Use case: Aggregate or combine all items into one result.\n",
        "Note: reduce() is not a built-in function in Python 3, you need to import it from functools."
      ],
      "metadata": {
        "id": "jH3CDvGnV18d"
      }
    },
    {
      "cell_type": "code",
      "source": [
        "from functools import reduce\n",
        "\n",
        "numbers = [1, 2, 3, 4, 5]\n",
        "sum_total = reduce(lambda x, y: x + y, numbers)\n",
        "print(sum_total)\n"
      ],
      "metadata": {
        "colab": {
          "base_uri": "https://localhost:8080/"
        },
        "id": "jnmKJw0xV7nS",
        "outputId": "1cd9e028-03a4-450b-a96e-9b1457fc0547"
      },
      "execution_count": null,
      "outputs": [
        {
          "output_type": "stream",
          "name": "stdout",
          "text": [
            "15\n"
          ]
        }
      ]
    },
    {
      "cell_type": "markdown",
      "source": [
        "11. Using pen & Paper write the internal mechanism for sum operation using  reduce function on this given\n",
        "list:[47,11,42,13];\n",
        "ans: Attached image ![que 11 ans.jpg](data:image/jpeg;base64,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)"
      ],
      "metadata": {
        "id": "RujW2pcPAz1c"
      }
    },
    {
      "cell_type": "markdown",
      "source": [
        "# Practical Questions:"
      ],
      "metadata": {
        "id": "N8tq0x0rWOI5"
      }
    },
    {
      "cell_type": "code",
      "source": [
        "# que 1\n",
        "\n",
        "def sum_of_evens(numbers):\n",
        "    \"\"\"\n",
        "    Returns the sum of all even numbers in the given list.\n",
        "\n",
        "    :param numbers: list of integers\n",
        "    :return: sum of even integers\n",
        "    \"\"\"\n",
        "    total = 0\n",
        "    for num in numbers:\n",
        "        if num % 2 == 0:  # check if the number is even\n",
        "            total += num\n",
        "    return total\n",
        "\n",
        "# Example usage\n",
        "nums = [1, 2, 3, 4, 5, 6]\n",
        "print(\"Sum of even numbers:\", sum_of_evens(nums))\n"
      ],
      "metadata": {
        "colab": {
          "base_uri": "https://localhost:8080/"
        },
        "id": "nwS9CEZqWROl",
        "outputId": "b64ccc80-ad68-49f4-a59f-1b47cb502a43"
      },
      "execution_count": null,
      "outputs": [
        {
          "output_type": "stream",
          "name": "stdout",
          "text": [
            "Sum of even numbers: 12\n"
          ]
        }
      ]
    },
    {
      "cell_type": "code",
      "source": [
        "# Que 2\n",
        "# Method 1: Using Slicing\n",
        "def reverse_string(s):\n",
        "    \"\"\"\n",
        "    Returns the reverse of the given string.\n",
        "\n",
        "    :param s: input string\n",
        "    :return: reversed string\n",
        "    \"\"\"\n",
        "    return s[::-1]\n",
        "\n",
        "# Example usage\n",
        "text = \"Python\"\n",
        "print(\"Reversed string:\", reverse_string(text))\n",
        "\n",
        "# Method 2: Using a Loop\n",
        "def reverse_string(s):\n",
        "    reversed_str = \"\"\n",
        "    for char in s:\n",
        "        reversed_str = char + reversed_str  # prepend each character\n",
        "    return reversed_str\n",
        "\n",
        "# Example usage\n",
        "text = \"Python\"\n",
        "print(\"Reversed string:\", reverse_string(text))\n",
        "\n",
        "# Method 3: Using reversed() and join()\n",
        "def reverse_string(s):\n",
        "    return \"\".join(reversed(s))\n",
        "\n",
        "# Example usage\n",
        "text = \"Python\"\n",
        "print(\"Reversed string:\", reverse_string(text))\n",
        "\n"
      ],
      "metadata": {
        "colab": {
          "base_uri": "https://localhost:8080/"
        },
        "id": "Kh3sW8a6Wz8a",
        "outputId": "e78b3c1a-fc01-4bcd-9204-de4a305a6251"
      },
      "execution_count": null,
      "outputs": [
        {
          "output_type": "stream",
          "name": "stdout",
          "text": [
            "Reversed string: nohtyP\n",
            "Reversed string: nohtyP\n",
            "Reversed string: nohtyP\n"
          ]
        }
      ]
    },
    {
      "cell_type": "code",
      "source": [
        "# Que 3\n",
        "# Method 1: Using a For Loop\n",
        "def square_list(numbers):\n",
        "    \"\"\"\n",
        "    Returns a list containing the squares of each number in the input list.\n",
        "\n",
        "    :param numbers: list of integers\n",
        "    :return: list of squares\n",
        "    \"\"\"\n",
        "    squares = []\n",
        "    for num in numbers:\n",
        "        squares.append(num ** 2)\n",
        "    return squares\n",
        "\n",
        "# Example usage\n",
        "nums = [1, 2, 3, 4, 5]\n",
        "print(\"Squares:\", square_list(nums))\n",
        "\n",
        "# Method 2: Using List Comprehension\n",
        "def square_list(numbers):\n",
        "    return [num ** 2 for num in numbers]\n",
        "\n",
        "# Example usage\n",
        "nums = [1, 2, 3, 4, 5]\n",
        "print(\"Squares:\", square_list(nums))\n",
        "\n",
        "# Method 3: Using map() and lambda\n",
        "def square_list(numbers):\n",
        "    return list(map(lambda x: x**2, numbers))\n",
        "\n",
        "# Example usage\n",
        "nums = [1, 2, 3, 4, 5]\n",
        "print(\"Squares:\", square_list(nums))\n"
      ],
      "metadata": {
        "colab": {
          "base_uri": "https://localhost:8080/"
        },
        "id": "wjbycTQ0XZKd",
        "outputId": "53069475-c786-4303-d847-10547eea9737"
      },
      "execution_count": null,
      "outputs": [
        {
          "output_type": "stream",
          "name": "stdout",
          "text": [
            "Squares: [1, 4, 9, 16, 25]\n",
            "Squares: [1, 4, 9, 16, 25]\n",
            "Squares: [1, 4, 9, 16, 25]\n"
          ]
        }
      ]
    },
    {
      "cell_type": "code",
      "source": [
        "# Que 4\n",
        "def is_prime(n):\n",
        "    \"\"\"\n",
        "    Checks if a number is prime.\n",
        "\n",
        "    :param n: integer to check\n",
        "    :return: True if n is prime, False otherwise\n",
        "    \"\"\"\n",
        "    if n <= 1:\n",
        "        return False\n",
        "    if n == 2:\n",
        "        return True\n",
        "    if n % 2 == 0:\n",
        "        return False\n",
        "    # Check divisibility from 3 up to sqrt(n)\n",
        "    for i in range(3, int(n ** 0.5) + 1, 2):\n",
        "        if n % i == 0:\n",
        "            return False\n",
        "    return True\n",
        "\n",
        "# Example: Check numbers from 1 to 200\n",
        "for num in range(1, 201):\n",
        "    if is_prime(num):\n",
        "        print(num, \"is a prime number\")\n"
      ],
      "metadata": {
        "colab": {
          "base_uri": "https://localhost:8080/"
        },
        "id": "kkzBvq9DYEEi",
        "outputId": "8d8e9db5-873f-4e82-96ff-4d1fa66ecf1f"
      },
      "execution_count": null,
      "outputs": [
        {
          "output_type": "stream",
          "name": "stdout",
          "text": [
            "2 is a prime number\n",
            "3 is a prime number\n",
            "5 is a prime number\n",
            "7 is a prime number\n",
            "11 is a prime number\n",
            "13 is a prime number\n",
            "17 is a prime number\n",
            "19 is a prime number\n",
            "23 is a prime number\n",
            "29 is a prime number\n",
            "31 is a prime number\n",
            "37 is a prime number\n",
            "41 is a prime number\n",
            "43 is a prime number\n",
            "47 is a prime number\n",
            "53 is a prime number\n",
            "59 is a prime number\n",
            "61 is a prime number\n",
            "67 is a prime number\n",
            "71 is a prime number\n",
            "73 is a prime number\n",
            "79 is a prime number\n",
            "83 is a prime number\n",
            "89 is a prime number\n",
            "97 is a prime number\n",
            "101 is a prime number\n",
            "103 is a prime number\n",
            "107 is a prime number\n",
            "109 is a prime number\n",
            "113 is a prime number\n",
            "127 is a prime number\n",
            "131 is a prime number\n",
            "137 is a prime number\n",
            "139 is a prime number\n",
            "149 is a prime number\n",
            "151 is a prime number\n",
            "157 is a prime number\n",
            "163 is a prime number\n",
            "167 is a prime number\n",
            "173 is a prime number\n",
            "179 is a prime number\n",
            "181 is a prime number\n",
            "191 is a prime number\n",
            "193 is a prime number\n",
            "197 is a prime number\n",
            "199 is a prime number\n"
          ]
        }
      ]
    },
    {
      "cell_type": "code",
      "source": [
        "# Que 5\n",
        "class Fibonacci:\n",
        "    def __init__(self, n_terms):\n",
        "        \"\"\"\n",
        "        Initialize the iterator with the number of terms.\n",
        "        :param n_terms: total number of Fibonacci terms to generate\n",
        "        \"\"\"\n",
        "        self.n_terms = n_terms\n",
        "        self.count = 0\n",
        "        self.a, self.b = 0, 1  # first two Fibonacci numbers\n",
        "\n",
        "    def __iter__(self):\n",
        "        return self  # iterator returns itself\n",
        "\n",
        "    def __next__(self):\n",
        "        if self.count >= self.n_terms:\n",
        "            raise StopIteration  # stop iteration when n_terms reached\n",
        "        if self.count == 0:\n",
        "            self.count += 1\n",
        "            return 0\n",
        "        elif self.count == 1:\n",
        "            self.count += 1\n",
        "            return 1\n",
        "        else:\n",
        "            self.count += 1\n",
        "            self.a, self.b = self.b, self.a + self.b\n",
        "            return self.b\n",
        "\n",
        "# Example usage\n",
        "n = 10\n",
        "fib_sequence = Fibonacci(n)\n",
        "for num in fib_sequence:\n",
        "    print(num, end=\" \")\n"
      ],
      "metadata": {
        "colab": {
          "base_uri": "https://localhost:8080/"
        },
        "id": "_AnoIjDmYO9b",
        "outputId": "811ade4e-964d-4d9d-d643-cbf66700efa8"
      },
      "execution_count": null,
      "outputs": [
        {
          "output_type": "stream",
          "name": "stdout",
          "text": [
            "0 1 1 2 3 5 8 13 21 34 "
          ]
        }
      ]
    },
    {
      "cell_type": "code",
      "source": [
        "# Que 6\n",
        "def powers_of_two(max_exponent):\n",
        "    \"\"\"\n",
        "    Generator that yields powers of 2 from 0 up to max_exponent.\n",
        "\n",
        "    :param max_exponent: maximum exponent (inclusive)\n",
        "    \"\"\"\n",
        "    for exp in range(max_exponent + 1):\n",
        "        yield 2 ** exp\n",
        "\n",
        "# Example usage\n",
        "for value in powers_of_two(5):\n",
        "    print(value, end=\" \")\n"
      ],
      "metadata": {
        "colab": {
          "base_uri": "https://localhost:8080/"
        },
        "id": "rQUwzT3YYq-Y",
        "outputId": "14e81258-11fa-4fee-9861-6d17453764d2"
      },
      "execution_count": null,
      "outputs": [
        {
          "output_type": "stream",
          "name": "stdout",
          "text": [
            "1 2 4 8 16 32 "
          ]
        }
      ]
    },
    {
      "cell_type": "code",
      "source": [
        "# Que 7\n",
        "def read_file_lines(filename):\n",
        "    \"\"\"\n",
        "    Generator that yields each line from a file one by one.\n",
        "\n",
        "    :param filename: path to the file\n",
        "    \"\"\"\n",
        "    with open(filename, 'r') as file:\n",
        "        for line in file:\n",
        "            yield line.rstrip('\\n')  # remove newline character\n",
        "\n",
        "# Example usage\n",
        "filename = \"example.txt\"  # replace with your file path\n",
        "\n",
        "for line in read_file_lines(filename):\n",
        "    print(line)\n"
      ],
      "metadata": {
        "colab": {
          "base_uri": "https://localhost:8080/",
          "height": 315
        },
        "id": "kfbxSO2ZY2Qt",
        "outputId": "d5536747-2b9b-4c20-82d7-647628a51780"
      },
      "execution_count": null,
      "outputs": [
        {
          "output_type": "error",
          "ename": "FileNotFoundError",
          "evalue": "[Errno 2] No such file or directory: 'example.txt'",
          "traceback": [
            "\u001b[0;31m---------------------------------------------------------------------------\u001b[0m",
            "\u001b[0;31mFileNotFoundError\u001b[0m                         Traceback (most recent call last)",
            "\u001b[0;32m/tmp/ipython-input-408765911.py\u001b[0m in \u001b[0;36m<cell line: 0>\u001b[0;34m()\u001b[0m\n\u001b[1;32m     13\u001b[0m \u001b[0mfilename\u001b[0m \u001b[0;34m=\u001b[0m \u001b[0;34m\"example.txt\"\u001b[0m  \u001b[0;31m# replace with your file path\u001b[0m\u001b[0;34m\u001b[0m\u001b[0;34m\u001b[0m\u001b[0m\n\u001b[1;32m     14\u001b[0m \u001b[0;34m\u001b[0m\u001b[0m\n\u001b[0;32m---> 15\u001b[0;31m \u001b[0;32mfor\u001b[0m \u001b[0mline\u001b[0m \u001b[0;32min\u001b[0m \u001b[0mread_file_lines\u001b[0m\u001b[0;34m(\u001b[0m\u001b[0mfilename\u001b[0m\u001b[0;34m)\u001b[0m\u001b[0;34m:\u001b[0m\u001b[0;34m\u001b[0m\u001b[0;34m\u001b[0m\u001b[0m\n\u001b[0m\u001b[1;32m     16\u001b[0m     \u001b[0mprint\u001b[0m\u001b[0;34m(\u001b[0m\u001b[0mline\u001b[0m\u001b[0;34m)\u001b[0m\u001b[0;34m\u001b[0m\u001b[0;34m\u001b[0m\u001b[0m\n",
            "\u001b[0;32m/tmp/ipython-input-408765911.py\u001b[0m in \u001b[0;36mread_file_lines\u001b[0;34m(filename)\u001b[0m\n\u001b[1;32m      6\u001b[0m     \u001b[0;34m:\u001b[0m\u001b[0mparam\u001b[0m \u001b[0mfilename\u001b[0m\u001b[0;34m:\u001b[0m \u001b[0mpath\u001b[0m \u001b[0mto\u001b[0m \u001b[0mthe\u001b[0m \u001b[0mfile\u001b[0m\u001b[0;34m\u001b[0m\u001b[0;34m\u001b[0m\u001b[0m\n\u001b[1;32m      7\u001b[0m     \"\"\"\n\u001b[0;32m----> 8\u001b[0;31m     \u001b[0;32mwith\u001b[0m \u001b[0mopen\u001b[0m\u001b[0;34m(\u001b[0m\u001b[0mfilename\u001b[0m\u001b[0;34m,\u001b[0m \u001b[0;34m'r'\u001b[0m\u001b[0;34m)\u001b[0m \u001b[0;32mas\u001b[0m \u001b[0mfile\u001b[0m\u001b[0;34m:\u001b[0m\u001b[0;34m\u001b[0m\u001b[0;34m\u001b[0m\u001b[0m\n\u001b[0m\u001b[1;32m      9\u001b[0m         \u001b[0;32mfor\u001b[0m \u001b[0mline\u001b[0m \u001b[0;32min\u001b[0m \u001b[0mfile\u001b[0m\u001b[0;34m:\u001b[0m\u001b[0;34m\u001b[0m\u001b[0;34m\u001b[0m\u001b[0m\n\u001b[1;32m     10\u001b[0m             \u001b[0;32myield\u001b[0m \u001b[0mline\u001b[0m\u001b[0;34m.\u001b[0m\u001b[0mrstrip\u001b[0m\u001b[0;34m(\u001b[0m\u001b[0;34m'\\n'\u001b[0m\u001b[0;34m)\u001b[0m  \u001b[0;31m# remove newline character\u001b[0m\u001b[0;34m\u001b[0m\u001b[0;34m\u001b[0m\u001b[0m\n",
            "\u001b[0;31mFileNotFoundError\u001b[0m: [Errno 2] No such file or directory: 'example.txt'"
          ]
        }
      ]
    },
    {
      "cell_type": "code",
      "source": [
        "# Que 8\n",
        "\n",
        "# List of tuples\n",
        "data = [(1, 5), (3, 1), (2, 8), (4, 3)]\n",
        "\n",
        "# Sort using a lambda function (based on the second element)\n",
        "sorted_data = sorted(data, key=lambda x: x[1])\n",
        "\n",
        "# Display the result\n",
        "print(\"Original list:\", data)\n",
        "print(\"Sorted list (by second element):\", sorted_data)\n",
        "\n",
        "\n"
      ],
      "metadata": {
        "id": "HSGZMdIRaR3B",
        "colab": {
          "base_uri": "https://localhost:8080/"
        },
        "outputId": "7b8d8892-e6d0-45cd-f7b7-b48d2dcfbfe3"
      },
      "execution_count": 2,
      "outputs": [
        {
          "output_type": "stream",
          "name": "stdout",
          "text": [
            "Original list: [(1, 5), (3, 1), (2, 8), (4, 3)]\n",
            "Sorted list (by second element): [(3, 1), (4, 3), (1, 5), (2, 8)]\n"
          ]
        }
      ]
    },
    {
      "cell_type": "code",
      "source": [
        "# Que 9\n",
        "\n",
        "# Function to convert Celsius to Fahrenheit\n",
        "def celsius_to_fahrenheit(c):\n",
        "    return (c * 9/5) + 32\n",
        "\n",
        "# List of temperatures in Celsius\n",
        "celsius_temps = [0, 20, 37, 100]\n",
        "\n",
        "# Use map() to convert all temperatures to Fahrenheit\n",
        "fahrenheit_temps = list(map(celsius_to_fahrenheit, celsius_temps))\n",
        "\n",
        "# Display the results\n",
        "print(\"Celsius temperatures:\", celsius_temps)\n",
        "print(\"Fahrenheit temperatures:\", fahrenheit_temps)\n"
      ],
      "metadata": {
        "colab": {
          "base_uri": "https://localhost:8080/"
        },
        "id": "2ZC8PKKn9k4w",
        "outputId": "6f53359b-9a8e-44f0-c74b-e7829105e48f"
      },
      "execution_count": 1,
      "outputs": [
        {
          "output_type": "stream",
          "name": "stdout",
          "text": [
            "Celsius temperatures: [0, 20, 37, 100]\n",
            "Fahrenheit temperatures: [32.0, 68.0, 98.6, 212.0]\n"
          ]
        }
      ]
    },
    {
      "cell_type": "code",
      "source": [
        "# Que 10\n",
        "# Given string\n",
        "text = \"Beautiful Day in Python\"\n",
        "\n",
        "# Define vowels\n",
        "vowels = \"aeiouAEIOU\"\n",
        "\n",
        "# Use filter() to remove vowels\n",
        "no_vowels = ''.join(filter(lambda ch: ch not in vowels, text))\n",
        "\n",
        "# Display the result\n",
        "print(\"Original string:\", text)\n",
        "print(\"String without vowels:\", no_vowels)\n"
      ],
      "metadata": {
        "colab": {
          "base_uri": "https://localhost:8080/"
        },
        "id": "SbF7OHHl95y4",
        "outputId": "16912e55-3afd-4986-d3d7-a0b44dd93ab4"
      },
      "execution_count": 3,
      "outputs": [
        {
          "output_type": "stream",
          "name": "stdout",
          "text": [
            "Original string: Beautiful Day in Python\n",
            "String without vowels: Btfl Dy n Pythn\n"
          ]
        }
      ]
    },
    {
      "cell_type": "code",
      "source": [
        "# Que 11\n",
        "# List of orders: (Order Number, Book Title, Quantity, Price per Item)\n",
        "orders = [\n",
        "    (34587, \"Learning Python, Mark Lutz\", 4, 40.95),\n",
        "    (98762, \"Programming Python, Mark Lutz\", 5, 56.80),\n",
        "    (77226, \"Head First Python, Paul Barry\", 3, 32.95),\n",
        "    (88112, \"Einführung in Python 3, Bernd Klein\", 3, 24.99)\n",
        "]\n",
        "\n",
        "# Use map and lambda to calculate total value per order\n",
        "invoice_totals = list(\n",
        "    map(lambda order:\n",
        "        (order[0], order[2] * order[3] if order[2] * order[3] >= 100 else order[2] * order[3] + 10),\n",
        "        orders)\n",
        ")\n",
        "\n",
        "print(invoice_totals)"
      ],
      "metadata": {
        "colab": {
          "base_uri": "https://localhost:8080/"
        },
        "id": "5Br-4BBo-3G5",
        "outputId": "88128bfa-761b-40d0-8c9a-d26502d8e673"
      },
      "execution_count": 4,
      "outputs": [
        {
          "output_type": "stream",
          "name": "stdout",
          "text": [
            "[(34587, 163.8), (98762, 284.0), (77226, 108.85000000000001), (88112, 84.97)]\n"
          ]
        }
      ]
    }
  ]
}